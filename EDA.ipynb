{
 "cells": [
  {
   "cell_type": "code",
   "execution_count": 3,
   "metadata": {},
   "outputs": [],
   "source": [
    "import pandas as pd"
   ]
  },
  {
   "cell_type": "markdown",
   "metadata": {},
   "source": [
    "## Dataset : Orden de Fabricación (OF)"
   ]
  },
  {
   "cell_type": "code",
   "execution_count": 17,
   "metadata": {},
   "outputs": [
    {
     "data": {
      "text/html": [
       "<div>\n",
       "<style scoped>\n",
       "    .dataframe tbody tr th:only-of-type {\n",
       "        vertical-align: middle;\n",
       "    }\n",
       "\n",
       "    .dataframe tbody tr th {\n",
       "        vertical-align: top;\n",
       "    }\n",
       "\n",
       "    .dataframe thead th {\n",
       "        text-align: right;\n",
       "    }\n",
       "</style>\n",
       "<table border=\"1\" class=\"dataframe\">\n",
       "  <thead>\n",
       "    <tr style=\"text-align: right;\">\n",
       "      <th></th>\n",
       "      <th>Orden</th>\n",
       "      <th>Número material</th>\n",
       "      <th>Texto breve material</th>\n",
       "      <th>Lote</th>\n",
       "      <th>Fecha de inicio real</th>\n",
       "      <th>Fecha de fin real</th>\n",
       "      <th>Cantidad entregada</th>\n",
       "      <th>Unidad de medida</th>\n",
       "    </tr>\n",
       "  </thead>\n",
       "  <tbody>\n",
       "    <tr>\n",
       "      <th>0</th>\n",
       "      <td>200178572</td>\n",
       "      <td>123456</td>\n",
       "      <td>MATERIAL DESCRITION</td>\n",
       "      <td>23/019</td>\n",
       "      <td>2023-04-24</td>\n",
       "      <td>2023-04-24</td>\n",
       "      <td>13.8</td>\n",
       "      <td>L</td>\n",
       "    </tr>\n",
       "    <tr>\n",
       "      <th>1</th>\n",
       "      <td>200179217</td>\n",
       "      <td>123456</td>\n",
       "      <td>MATERIAL DESCRITION</td>\n",
       "      <td>23/020</td>\n",
       "      <td>2023-04-24</td>\n",
       "      <td>2023-04-24</td>\n",
       "      <td>13.6</td>\n",
       "      <td>L</td>\n",
       "    </tr>\n",
       "  </tbody>\n",
       "</table>\n",
       "</div>"
      ],
      "text/plain": [
       "       Orden  Número material Texto breve material    Lote  \\\n",
       "0  200178572           123456  MATERIAL DESCRITION  23/019   \n",
       "1  200179217           123456  MATERIAL DESCRITION  23/020   \n",
       "\n",
       "  Fecha de inicio real Fecha de fin real  Cantidad entregada Unidad de medida  \n",
       "0           2023-04-24        2023-04-24                13.8                L  \n",
       "1           2023-04-24        2023-04-24                13.6                L  "
      ]
     },
     "execution_count": 17,
     "metadata": {},
     "output_type": "execute_result"
    }
   ],
   "source": [
    "# Leer archivo\n",
    "orden_fabricacion = pd.read_excel('OF 123456.xlsx')\n",
    "\n",
    "# Verificar las primeras filas del dataframe\n",
    "orden_fabricacion.head(2)"
   ]
  },
  {
   "cell_type": "code",
   "execution_count": 19,
   "metadata": {},
   "outputs": [
    {
     "data": {
      "text/plain": [
       "0"
      ]
     },
     "execution_count": 19,
     "metadata": {},
     "output_type": "execute_result"
    }
   ],
   "source": [
    "orden_fabricacion.columns.isnull().sum()"
   ]
  },
  {
   "cell_type": "markdown",
   "metadata": {},
   "source": [
    "## Dataset: Fases de Producción"
   ]
  },
  {
   "cell_type": "code",
   "execution_count": 4,
   "metadata": {},
   "outputs": [],
   "source": [
    "file_path = 'Fases Producción.xlsx'\n",
    "\n",
    "# Leer la hoja de Preinóculo\n",
    "preinoculo = pd.read_excel(file_path, sheet_name='Preinóculo', header=1)  # header=1 para usar la segunda fila como encabezado\n",
    "\n",
    "# Leer las hojas de Inóculo y Cultivo Final \n",
    "inoculo = pd.read_excel(file_path, sheet_name='Inóculo')\n",
    "cultivo_final = pd.read_excel(file_path, sheet_name='Cultivo final')\n"
   ]
  },
  {
   "cell_type": "code",
   "execution_count": 5,
   "metadata": {},
   "outputs": [
    {
     "data": {
      "text/html": [
       "<div>\n",
       "<style scoped>\n",
       "    .dataframe tbody tr th:only-of-type {\n",
       "        vertical-align: middle;\n",
       "    }\n",
       "\n",
       "    .dataframe tbody tr th {\n",
       "        vertical-align: top;\n",
       "    }\n",
       "\n",
       "    .dataframe thead th {\n",
       "        text-align: right;\n",
       "    }\n",
       "</style>\n",
       "<table border=\"1\" class=\"dataframe\">\n",
       "  <thead>\n",
       "    <tr style=\"text-align: right;\">\n",
       "      <th></th>\n",
       "      <th>LOTE</th>\n",
       "      <th>Fecha/hora inicio</th>\n",
       "      <th>Fecha/hora fin</th>\n",
       "      <th>pH línea 1</th>\n",
       "      <th>pH línea 2</th>\n",
       "      <th>pH línea 3</th>\n",
       "      <th>Turbidez línea 1</th>\n",
       "      <th>Turbidez línea 2</th>\n",
       "      <th>Turbidez línea 3</th>\n",
       "      <th>Linea Utilizada 1</th>\n",
       "      <th>Línea Utilizada 2</th>\n",
       "      <th>Linea Utilizada 3</th>\n",
       "    </tr>\n",
       "  </thead>\n",
       "  <tbody>\n",
       "    <tr>\n",
       "      <th>0</th>\n",
       "      <td>23023</td>\n",
       "      <td>2023-03-26 05:00:00</td>\n",
       "      <td>2023-03-27 07:21:00</td>\n",
       "      <td>5.496</td>\n",
       "      <td>5.504</td>\n",
       "      <td>5.52</td>\n",
       "      <td>28.32</td>\n",
       "      <td>27.92</td>\n",
       "      <td>32</td>\n",
       "      <td>1</td>\n",
       "      <td>1</td>\n",
       "      <td>0</td>\n",
       "    </tr>\n",
       "  </tbody>\n",
       "</table>\n",
       "</div>"
      ],
      "text/plain": [
       "    LOTE   Fecha/hora inicio      Fecha/hora fin  pH línea 1  pH línea 2  \\\n",
       "0  23023 2023-03-26 05:00:00 2023-03-27 07:21:00       5.496       5.504   \n",
       "\n",
       "  pH línea 3  Turbidez línea 1  Turbidez línea 2 Turbidez línea 3  \\\n",
       "0       5.52             28.32             27.92               32   \n",
       "\n",
       "   Linea Utilizada 1  Línea Utilizada 2  Linea Utilizada 3  \n",
       "0                  1                  1                  0  "
      ]
     },
     "execution_count": 5,
     "metadata": {},
     "output_type": "execute_result"
    }
   ],
   "source": [
    "\n",
    "# Ajustar los nombres de las primeras tres columnas añadiendo el prefijo 'pH'\n",
    "columnas_ajustadas = ['LOTE', 'Fecha/hora inicio', 'Fecha/hora fin', 'pH línea 1', 'pH línea 2', 'pH línea 3', 'Turbidez línea 1', 'Turbidez línea 2', 'Turbidez línea 3', 'Linea Utilizada 1', 'Línea Utilizada 2', 'Linea Utilizada 3']\n",
    "\n",
    "# Cambiar los nombres de las columnas del dataframe\n",
    "preinoculo.columns = columnas_ajustadas\n",
    "\n",
    "preinoculo.head(1)\n"
   ]
  },
  {
   "cell_type": "code",
   "execution_count": 6,
   "metadata": {},
   "outputs": [
    {
     "data": {
      "text/html": [
       "<div>\n",
       "<style scoped>\n",
       "    .dataframe tbody tr th:only-of-type {\n",
       "        vertical-align: middle;\n",
       "    }\n",
       "\n",
       "    .dataframe tbody tr th {\n",
       "        vertical-align: top;\n",
       "    }\n",
       "\n",
       "    .dataframe thead th {\n",
       "        text-align: right;\n",
       "    }\n",
       "</style>\n",
       "<table border=\"1\" class=\"dataframe\">\n",
       "  <thead>\n",
       "    <tr style=\"text-align: right;\">\n",
       "      <th></th>\n",
       "      <th>LOTE</th>\n",
       "      <th>ID bioreactor</th>\n",
       "      <th>Fecha/hora inicio</th>\n",
       "      <th>Fecha/hora fin</th>\n",
       "      <th>Volumen de cultivo</th>\n",
       "      <th>Turbidez inicio cultivo</th>\n",
       "      <th>Turbidez final culttivo</th>\n",
       "      <th>Viabilidad final cultivo</th>\n",
       "    </tr>\n",
       "  </thead>\n",
       "  <tbody>\n",
       "    <tr>\n",
       "      <th>0</th>\n",
       "      <td>23019</td>\n",
       "      <td>13171</td>\n",
       "      <td>NaT</td>\n",
       "      <td>NaT</td>\n",
       "      <td>NaN</td>\n",
       "      <td>NaN</td>\n",
       "      <td>32.8</td>\n",
       "      <td>134400000</td>\n",
       "    </tr>\n",
       "  </tbody>\n",
       "</table>\n",
       "</div>"
      ],
      "text/plain": [
       "    LOTE  ID bioreactor Fecha/hora inicio Fecha/hora fin  Volumen de cultivo  \\\n",
       "0  23019          13171               NaT            NaT                 NaN   \n",
       "\n",
       "   Turbidez inicio cultivo  Turbidez final culttivo Viabilidad final cultivo  \n",
       "0                      NaN                     32.8                134400000  "
      ]
     },
     "execution_count": 6,
     "metadata": {},
     "output_type": "execute_result"
    }
   ],
   "source": [
    "inoculo.head(1)"
   ]
  },
  {
   "cell_type": "code",
   "execution_count": 7,
   "metadata": {},
   "outputs": [
    {
     "data": {
      "text/html": [
       "<div>\n",
       "<style scoped>\n",
       "    .dataframe tbody tr th:only-of-type {\n",
       "        vertical-align: middle;\n",
       "    }\n",
       "\n",
       "    .dataframe tbody tr th {\n",
       "        vertical-align: top;\n",
       "    }\n",
       "\n",
       "    .dataframe thead th {\n",
       "        text-align: right;\n",
       "    }\n",
       "</style>\n",
       "<table border=\"1\" class=\"dataframe\">\n",
       "  <thead>\n",
       "    <tr style=\"text-align: right;\">\n",
       "      <th></th>\n",
       "      <th>LOTE</th>\n",
       "      <th>Orden en el encadenado</th>\n",
       "      <th>LOTE parental</th>\n",
       "      <th>ID Bioreactor</th>\n",
       "      <th>Fecha/hora inicio</th>\n",
       "      <th>Fecha/hora fin</th>\n",
       "      <th>Volumen de inóculo utilizado</th>\n",
       "      <th>Turbidez inicio cultivo</th>\n",
       "      <th>Turbidez fin cultivo</th>\n",
       "      <th>Viabilidad final cultivo</th>\n",
       "      <th>ID Centrífuga</th>\n",
       "      <th>Centrifugación 1 turbidez</th>\n",
       "      <th>Centrifugación 2 turbidez</th>\n",
       "      <th>Producto 1</th>\n",
       "      <th>Producto 2</th>\n",
       "    </tr>\n",
       "  </thead>\n",
       "  <tbody>\n",
       "    <tr>\n",
       "      <th>0</th>\n",
       "      <td>23019</td>\n",
       "      <td>1</td>\n",
       "      <td>NaN</td>\n",
       "      <td>14615</td>\n",
       "      <td>2023-03-21 07:30:00</td>\n",
       "      <td>2023-03-23 06:30:00</td>\n",
       "      <td>82.4</td>\n",
       "      <td>17.28</td>\n",
       "      <td>91.2</td>\n",
       "      <td>184000000</td>\n",
       "      <td>17825</td>\n",
       "      <td>NaN</td>\n",
       "      <td>NaN</td>\n",
       "      <td>1747.92</td>\n",
       "      <td>6.0</td>\n",
       "    </tr>\n",
       "  </tbody>\n",
       "</table>\n",
       "</div>"
      ],
      "text/plain": [
       "    LOTE  Orden en el encadenado  LOTE parental  ID Bioreactor  \\\n",
       "0  23019                       1            NaN          14615   \n",
       "\n",
       "    Fecha/hora inicio      Fecha/hora fin  Volumen de inóculo utilizado  \\\n",
       "0 2023-03-21 07:30:00 2023-03-23 06:30:00                          82.4   \n",
       "\n",
       "   Turbidez inicio cultivo  Turbidez fin cultivo Viabilidad final cultivo  \\\n",
       "0                    17.28                  91.2                184000000   \n",
       "\n",
       "   ID Centrífuga  Centrifugación 1 turbidez  Centrifugación 2 turbidez  \\\n",
       "0          17825                        NaN                        NaN   \n",
       "\n",
       "   Producto 1  Producto 2  \n",
       "0     1747.92         6.0  "
      ]
     },
     "execution_count": 7,
     "metadata": {},
     "output_type": "execute_result"
    }
   ],
   "source": [
    "cultivo_final.head(1)"
   ]
  },
  {
   "cell_type": "code",
   "execution_count": 10,
   "metadata": {},
   "outputs": [
    {
     "name": "stdout",
     "output_type": "stream",
     "text": [
      "<class 'pandas.core.frame.DataFrame'>\n",
      "RangeIndex: 165 entries, 0 to 164\n",
      "Data columns (total 12 columns):\n",
      " #   Column             Non-Null Count  Dtype         \n",
      "---  ------             --------------  -----         \n",
      " 0   LOTE               165 non-null    object        \n",
      " 1   Fecha/hora inicio  165 non-null    datetime64[ns]\n",
      " 2   Fecha/hora fin     165 non-null    datetime64[ns]\n",
      " 3   pH línea 1         163 non-null    float64       \n",
      " 4   pH línea 2         152 non-null    float64       \n",
      " 5   pH línea 3         138 non-null    object        \n",
      " 6   Turbidez línea 1   163 non-null    float64       \n",
      " 7   Turbidez línea 2   152 non-null    float64       \n",
      " 8   Turbidez línea 3   139 non-null    object        \n",
      " 9   Linea Utilizada 1  165 non-null    int64         \n",
      " 10  Línea Utilizada 2  165 non-null    int64         \n",
      " 11  Linea Utilizada 3  165 non-null    int64         \n",
      "dtypes: datetime64[ns](2), float64(4), int64(3), object(3)\n",
      "memory usage: 15.6+ KB\n",
      "None\n"
     ]
    }
   ],
   "source": [
    "# Verificar información general del dataframe de Preinóculo\n",
    "print(preinoculo.info())\n"
   ]
  },
  {
   "cell_type": "code",
   "execution_count": 14,
   "metadata": {},
   "outputs": [
    {
     "name": "stdout",
     "output_type": "stream",
     "text": [
      "LOTE                  0\n",
      "Fecha/hora inicio     0\n",
      "Fecha/hora fin        0\n",
      "pH línea 1            2\n",
      "pH línea 2           13\n",
      "pH línea 3           27\n",
      "Turbidez línea 1      2\n",
      "Turbidez línea 2     13\n",
      "Turbidez línea 3     26\n",
      "Linea Utilizada 1     0\n",
      "Línea Utilizada 2     0\n",
      "Linea Utilizada 3     0\n",
      "dtype: int64\n",
      "LOTE                        0\n",
      "ID bioreactor               0\n",
      "Fecha/hora inicio           4\n",
      "Fecha/hora fin              4\n",
      "Volumen de cultivo          4\n",
      "Turbidez inicio cultivo     6\n",
      "Turbidez final culttivo     0\n",
      "Viabilidad final cultivo    0\n",
      "dtype: int64\n",
      "LOTE                              0\n",
      "Orden en el encadenado            0\n",
      "LOTE parental                   130\n",
      "ID Bioreactor                     0\n",
      "Fecha/hora inicio                 0\n",
      "Fecha/hora fin                    0\n",
      "Volumen de inóculo utilizado      5\n",
      "Turbidez inicio cultivo           0\n",
      "Turbidez fin cultivo              0\n",
      "Viabilidad final cultivo          0\n",
      "ID Centrífuga                     0\n",
      "Centrifugación 1 turbidez         4\n",
      "Centrifugación 2 turbidez         9\n",
      "Producto 1                        0\n",
      "Producto 2                        0\n",
      "dtype: int64\n"
     ]
    }
   ],
   "source": [
    "# Verificar si hay valores nulos\n",
    "print(preinoculo.isnull().sum())\n",
    "\n",
    "print(inoculo.isnull().sum())\n",
    "\n",
    "print(cultivo_final.isnull().sum())"
   ]
  }
 ],
 "metadata": {
  "kernelspec": {
   "display_name": "Python 3",
   "language": "python",
   "name": "python3"
  },
  "language_info": {
   "codemirror_mode": {
    "name": "ipython",
    "version": 3
   },
   "file_extension": ".py",
   "mimetype": "text/x-python",
   "name": "python",
   "nbconvert_exporter": "python",
   "pygments_lexer": "ipython3",
   "version": "3.11.9"
  }
 },
 "nbformat": 4,
 "nbformat_minor": 2
}
